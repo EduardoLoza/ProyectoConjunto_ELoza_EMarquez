{
 "cells": [
  {
   "cell_type": "markdown",
   "metadata": {},
   "source": [
    "<img style=\"float: left; margin: 30px 15px 15px 15px;\" src=\"https://pngimage.net/wp-content/uploads/2018/06/logo-iteso-png-5.png\" width=\"300\" height=\"500\" /> \n",
    "    \n",
    "    \n",
    "### <font color='navy'> Simulación de procesos financieros. \n",
    "\n",
    "**Nombres:** Eduardo Loza de la Torre y Esteban Márquez Delgado.\n",
    "\n",
    "**Fecha:** 29 de Enero del 2021.\n",
    "\n",
    "**Expediente** : 713423 y 700637\n",
    "**Profesor:** Oscar David Jaramillo Zuluaga.\n",
    "\n",
    "# Tarea 1: Clase 2"
   ]
  },
  {
   "cell_type": "markdown",
   "metadata": {},
   "source": [
    "# <font color=red>**Tarea 1- git**</font> \n",
    "### Fecha de entrega: Lunes 1 de Febrero.\n",
    "### Recuerden que en canvas se encuntra el archivo Plantilla tareas, en donde deben de solucionar todas sus tareas.\n",
    "\n",
    "Este archivo contiene las pautas necesarias para crear el archivo conjunto en Github, usando los notebooks de Jupyter:\n",
    "\n",
    "1.  El archivo debe realizarse en parejas y sólo uno de los dos debe crear en su cuenta de *Github* un repositorio con el nombre **ProyectoConjunto\\_APELLIDO1\\_APELLIDO2**. A la persona que creó el repositorio la llamaremos (ESTUDIANTE 1 ). El APELLIDO se debe de escribir (Iniciales del nombre y primer apellido), por ejemplo si yo creara el archivo lo debería de nombrar *ProyectoConjunto\\_ODJaramillo*. \n",
    "1.  Posteriormente, desde la cuenta del (ESTUDIANTE 2), 'aquel que no creó el repositorio anterior', ingresar al perfil del ESTUDIANTE 1 y en el repositorio creado en el paso 1, realizar un \"fork\" de este repositorio en su perfil, y además realizar los pasos en Gitkraken para hacer dicho repositorio \"Remoto (REMOTE)\" VER DICHO PROCEDIMIENTO EN LA CLASE **Clase2_GitTurorial2**.\n",
    "1.  Luego de realizados los pasos 1 y 2, el ESTUDIANTE 1 y ESTUDIANTE 2, desde su computador realizar un *clone* del repositorio creado en el numeral 1 en la carpeta que cada quién haya asignado para el curso en su computador. \n",
    "1.  Luego desde Jupyter el ESTUDIANTE 1, crea un nuevo ``notebook`` en el repositorio del paso 3. \n",
    "1.  En este nuevo notebook el ESTUDIANTE 1 y ESTUDIANTE 2, deben realizar una presentación describiendo sus expectativas del curso y la transcipción de la Figura 1 y Figura 2 respectivamente, haciendo uso de la sintaxis Markdown. Recuerden definir unas celdas donde cada usuario modificará el cuaderno de python para evitar futuros conflictos. \n",
    "\n",
    "**RECOMENDACIÓN:ANTES DE EMPEZAR A REALIZAR MUCHAS MODIFICACIONES DEL NOTEBOOK PRIMERO REALICEN CAMBIOS PEQUEÑOS EN EL ARCHIVO EN CONJUNTO Y VERIFIQUEN SI TANTO EL ``ESTUDIANTE 1`` COMO EL ``ESTUDIANTE 2``  RECIBEN LAS ACTUALIZACIONES QUE REALIZAN CADA UNO EN EL PROYECTO PARA VERIFICAR QUE EL REMOTE ESTUVO BIEN CONFIGURADO.**\n",
    ">Les recomiendo ver los siguientes enlaces para ver distintas funciones para escribir en markdown.\n",
    ">    - [Creador de tablas online](https://www.tablesgenerator.com/markdown_tables)\n",
    ">    - [Sintáxis markdown](https://joplinapp.org/markdown/)\n",
    "\n",
    "6. Cuando ya se encuentre el proyecto conjunto con la información del ESTUDIANTE 1 y ESTUDIANTE 2, el ``ESTUDIANTE 2``  debe de realizar un `pull request` con las modificaciones realizadas a el `ESTUDIANTE 1` para que este realice un merge a la rama `master`, con las moficaciones propuestas por el `ESTUDIANTE 2`, TAL Y CÓMO SE REALIZÓ EN CLASE. (Recuerden que los pull request se generan en *Gitkraken* y se administran los comentarios o cambios propuestos por su compañero desde *Github* ver `Clase1_GitTurorial` para aclaración de dudas, donde se explica cómo crear *branch y pull request*)"
   ]
  },
  {
   "cell_type": "markdown",
   "metadata": {},
   "source": [
    "7. Luego de culminado los pasos anteriores, el ESTUDIANTE 1,realizará un programa que imprima la serie de fibonacci para sus primeros 100 términos en un array de python,usando la rama “master” del repositorio creado. Por otro lado, el ESTUDIANTE 2,creando un “branch” llamado `ejerPrograma`, generará un programa que muestre los números primos del 0-100. Luego de que el ESTUDIANTE 2 haya terminado su programa, debe de realizar un “pull request” al ESTUDIANTE 1, **ANTES** de hacer un “merge” de la rama `ejerPrograma` en el proyecto principal (“master”). Luego de realizado estos pasos **NO BORRAR LA RAMA CREADA (`ejerPrograma`)**"
   ]
  },
  {
   "cell_type": "markdown",
   "metadata": {},
   "source": [
    "### Expectativas del curso: Eduardo Loza\n",
    "En este curso de Simulación de Procesos financieros espero que a través de la programación, pueda aprender a hacer simulaciones de datos financieros para poder tomar las mejores decisiones posibles."
   ]
  },
  {
   "cell_type": "markdown",
   "metadata": {},
   "source": [
    "<img style=\"float: right; margin: 0px 0px 15px 15px;\" src=\"https://yjvzpw.bn.files.1drv.com/y4mSiXJ1PI3vDv9KsUuRTsrhjPJv9gHELj4bYjfPC10_PwucGfN47b4a1sOYFkJJ1CS9hETeRoZgW9JOF1Mpio_2jbCwmHCg70J56p6HDuij_n7BxbrAdygClfZJG7tQp_dXx-yGQvfRXs55UKaFU311WHkbwBsk2K0nMh4ZqYtImkueE4os9MHdyjNGOFtM-R0pwCDWyS7tWe4CgVQ744aag/IMG_20200107_183335_9.jpg?psid=1\" width=\"280px\" height=\"90px\" />\n",
    "\n",
    "<span style='color:green'> Esteban Márquez Delgado </span>\n",
    "\n",
    "---\n",
    "¡Hola! \n",
    "\n",
    "Soy estudiante de **Ing. Financiera** en el **ITESO**. Me apasionan las finanzas y mi mayor aspiración es convertirme en *analista financiero*, por ello me estoy capacitando para certificarme como **Asesor en Estrategias de Inversión**, esto me permitirá adquirir experiencia profesional en instituciones financieras. ¡Una gran motivación!  \n",
    "\n",
    "Soy originario de Guadalajara y me gusta correr, la tecnología, y la naturaleza!\n",
    "\n",
    "**Expectativas del curso:**\n",
    "\n",
    "Mis expectativas son **aprender Python lo más posible** para poder conjuntar más mis ideas con elementos financieros. \n",
    "Esto me permitirá automatizar y **eficientar procesos financieros personales y profesionales**."
   ]
  },
  {
   "cell_type": "markdown",
   "metadata": {},
   "source": [
    "### Figura 1\n",
    "| i | *x*   | *f(x)*   |\n",
    "|---|-----|--------|\n",
    "|0  |-1   |  0.3678|\n",
    "| <span style=\"color:red\">1</span> |<span style=\"color:red\">-0.5</span> | <span style=\"color:red\">0.7788</span> |\n",
    "| <span style=\"color:blue\">2</span> |<span style=\"color:blue\">0</span>| <span style=\"color:blue\">1</span>|\n",
    "| <span style=\"color:red\">3</span> |<span style=\"color:red\">0.5</span> | <span style=\"color:red\">0.7788</span> ||\n",
    "| 4 | 1   | 0.3679 |\n",
    "\n",
    "Cuadro 1: Tabla de valores de *f(x)*\n",
    "\n",
    "$$ \\int_{x=-1}^{x=1} e^{-x^2} \\ dx\\approx \\frac{0,5}{3}[f(-1)+f(1)+4(f(-0,5) + f(0,5)) + 2f(0)]$$\n",
    "\n",
    "$$≈ \\frac{0,5}{3}[0,3678 +0,3678 +4(0,7788 + 0,7788) + 2\\cdot1]\\approx1,4943$$\n",
    "\n",
    "A modo de verificación, se calculará por software, el valor del área para n = 100, un valor mucho más elevado al que se utilizó anteriormente. Si lo calculado previamente es correcto, se esperaría que se proximo al valor presentado a continuación para ser una buena aproximación.\n",
    "\n",
    "$$\\int_{x=-1}^{x=1} e^{-x^2} \\ dx\\approx 1,4936$$"
   ]
  },
  {
   "cell_type": "markdown",
   "metadata": {},
   "source": [
    "### Figura 2"
   ]
  },
  {
   "cell_type": "code",
   "execution_count": 1,
   "metadata": {},
   "outputs": [
    {
     "name": "stdout",
     "output_type": "stream",
     "text": [
      "Ingresa la medida en pies para realizar su conversión:10\n"
     ]
    },
    {
     "data": {
      "text/plain": [
       "10.0"
      ]
     },
     "execution_count": 1,
     "metadata": {},
     "output_type": "execute_result"
    }
   ],
   "source": [
    "ft = float(input(\"Ingresa la medida en pies para realizar su conversión:\"))\n",
    "ft"
   ]
  },
  {
   "cell_type": "code",
   "execution_count": 2,
   "metadata": {},
   "outputs": [
    {
     "name": "stdout",
     "output_type": "stream",
     "text": [
      "Tu medida es equivalente a:\n",
      "120.0 pulgadas\n",
      "3.33333 yardas\n",
      "304.8 centímetros\n",
      "3.048 metros\n"
     ]
    }
   ],
   "source": [
    "pulg = ft * 12\n",
    "yd = ft * .333333\n",
    "cm = ft * 30.48\n",
    "m = ft * .3048\n",
    "\n",
    "print(\"Tu medida es equivalente a:\")\n",
    "print(pulg,\"pulgadas\")\n",
    "print(yd,\"yardas\")\n",
    "print(cm,\"centímetros\")\n",
    "print(m,\"metros\")"
   ]
  },
  {
   "cell_type": "markdown",
   "metadata": {},
   "source": [
    "### Números primos "
   ]
  },
  {
   "cell_type": "code",
   "execution_count": 15,
   "metadata": {},
   "outputs": [
    {
     "name": "stdout",
     "output_type": "stream",
     "text": [
      "Los números primos del 1 al 100 son:\n",
      "1 3 5 7 9 11 13 15 17 19 21 23 25 27 29 31 33 35 37 39 41 43 45 47 49 51 53 55 57 59 61 63 65 67 69 71 73 75 77 79 81 83 85 87 89 91 93 95 97 99 "
     ]
    }
   ],
   "source": [
    "inicio, fin = 0,100\n",
    "print(\"Los números primos del 1 al 100 son:\")\n",
    "for num in range(inicio, fin + 1): \n",
    "    if num % 2 != 0: \n",
    "        print(num, end = \" \") "
   ]
  },
  {
   "cell_type": "code",
   "execution_count": null,
   "metadata": {},
   "outputs": [],
   "source": []
  }
 ],
 "metadata": {
  "kernelspec": {
   "display_name": "Python 3",
   "language": "python",
   "name": "python3"
  },
  "language_info": {
   "codemirror_mode": {
    "name": "ipython",
    "version": 3
   },
   "file_extension": ".py",
   "mimetype": "text/x-python",
   "name": "python",
   "nbconvert_exporter": "python",
   "pygments_lexer": "ipython3",
   "version": "3.7.6"
  }
 },
 "nbformat": 4,
 "nbformat_minor": 4
}
