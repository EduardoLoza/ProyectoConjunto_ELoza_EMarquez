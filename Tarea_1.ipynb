{
 "cells": [
  {
   "cell_type": "markdown",
   "metadata": {},
   "source": [
    "<img style=\"float: left; margin: 30px 15px 15px 15px;\" src=\"https://pngimage.net/wp-content/uploads/2018/06/logo-iteso-png-5.png\" width=\"300\" height=\"500\" /> \n",
    "    \n",
    "    \n",
    "### <font color='navy'> Simulación de procesos financieros. \n",
    "\n",
    "**Nombres:** Eduardo Loza de la Torre y Esteban Márquez Delgado.\n",
    "\n",
    "**Fecha:** 29 de Enero del 2021.\n",
    "\n",
    "**Expediente** : 713423 y 700637\n",
    "**Profesor:** Oscar David Jaramillo Zuluaga.\n",
    "\n",
    "# Tarea 1: Clase 2\n",
    "   https://github.com/EduardoLoza/ProyectoConjunto_ELoza_EMarquez/pulls"
   ]
  },
  {
   "cell_type": "markdown",
   "metadata": {},
   "source": [
    "# <font color=red>**Tarea 1- git**</font> \n",
    "### Fecha de entrega: Lunes 1 de Febrero.\n",
    "### Recuerden que en canvas se encuntra el archivo Plantilla tareas, en donde deben de solucionar todas sus tareas.\n",
    "\n",
    "Este archivo contiene las pautas necesarias para crear el archivo conjunto en Github, usando los notebooks de Jupyter:\n",
    "\n",
    "1.  El archivo debe realizarse en parejas y sólo uno de los dos debe crear en su cuenta de *Github* un repositorio con el nombre **ProyectoConjunto\\_APELLIDO1\\_APELLIDO2**. A la persona que creó el repositorio la llamaremos (ESTUDIANTE 1 ). El APELLIDO se debe de escribir (Iniciales del nombre y primer apellido), por ejemplo si yo creara el archivo lo debería de nombrar *ProyectoConjunto\\_ODJaramillo*. \n",
    "1.  Posteriormente, desde la cuenta del (ESTUDIANTE 2), 'aquel que no creó el repositorio anterior', ingresar al perfil del ESTUDIANTE 1 y en el repositorio creado en el paso 1, realizar un \"fork\" de este repositorio en su perfil, y además realizar los pasos en Gitkraken para hacer dicho repositorio \"Remoto (REMOTE)\" VER DICHO PROCEDIMIENTO EN LA CLASE **Clase2_GitTurorial2**.\n",
    "1.  Luego de realizados los pasos 1 y 2, el ESTUDIANTE 1 y ESTUDIANTE 2, desde su computador realizar un *clone* del repositorio creado en el numeral 1 en la carpeta que cada quién haya asignado para el curso en su computador. \n",
    "1.  Luego desde Jupyter el ESTUDIANTE 1, crea un nuevo ``notebook`` en el repositorio del paso 3. \n",
    "1.  En este nuevo notebook el ESTUDIANTE 1 y ESTUDIANTE 2, deben realizar una presentación describiendo sus expectativas del curso y la transcipción de la Figura 1 y Figura 2 respectivamente, haciendo uso de la sintaxis Markdown. Recuerden definir unas celdas donde cada usuario modificará el cuaderno de python para evitar futuros conflictos. \n",
    "\n",
    "**RECOMENDACIÓN:ANTES DE EMPEZAR A REALIZAR MUCHAS MODIFICACIONES DEL NOTEBOOK PRIMERO REALICEN CAMBIOS PEQUEÑOS EN EL ARCHIVO EN CONJUNTO Y VERIFIQUEN SI TANTO EL ``ESTUDIANTE 1`` COMO EL ``ESTUDIANTE 2``  RECIBEN LAS ACTUALIZACIONES QUE REALIZAN CADA UNO EN EL PROYECTO PARA VERIFICAR QUE EL REMOTE ESTUVO BIEN CONFIGURADO.**\n",
    ">Les recomiendo ver los siguientes enlaces para ver distintas funciones para escribir en markdown.\n",
    ">    - [Creador de tablas online](https://www.tablesgenerator.com/markdown_tables)\n",
    ">    - [Sintáxis markdown](https://joplinapp.org/markdown/)\n",
    "\n",
    "6. Cuando ya se encuentre el proyecto conjunto con la información del ESTUDIANTE 1 y ESTUDIANTE 2, el ``ESTUDIANTE 2``  debe de realizar un `pull request` con las modificaciones realizadas a el `ESTUDIANTE 1` para que este realice un merge a la rama `master`, con las moficaciones propuestas por el `ESTUDIANTE 2`, TAL Y CÓMO SE REALIZÓ EN CLASE. (Recuerden que los pull request se generan en *Gitkraken* y se administran los comentarios o cambios propuestos por su compañero desde *Github* ver `Clase1_GitTurorial` para aclaración de dudas, donde se explica cómo crear *branch y pull request*)"
   ]
  },
  {
   "cell_type": "markdown",
   "metadata": {},
   "source": [
    "7. Luego de culminado los pasos anteriores, el ESTUDIANTE 1,realizará un programa que imprima la serie de fibonacci para sus primeros 100 términos en un array de python,usando la rama “master” del repositorio creado. Por otro lado, el ESTUDIANTE 2,creando un “branch” llamado `ejerPrograma`, generará un programa que muestre los números primos del 0-100. Luego de que el ESTUDIANTE 2 haya terminado su programa, debe de realizar un “pull request” al ESTUDIANTE 1, **ANTES** de hacer un “merge” de la rama `ejerPrograma` en el proyecto principal (“master”). Luego de realizado estos pasos **NO BORRAR LA RAMA CREADA (`ejerPrograma`)**"
   ]
  },
  {
   "cell_type": "markdown",
   "metadata": {},
   "source": [
    "### Expectativas del curso: Eduardo Loza\n",
    "En este curso de Simulación de Procesos financieros espero que a través de la programación, pueda aprender a hacer simulaciones de datos financieros para poder tomar las mejores decisiones posibles."
   ]
  },
  {
   "cell_type": "markdown",
   "metadata": {},
   "source": [
    "<img style=\"float: right; margin: 0px 0px 15px 15px;\" src=\"https://yjvzpw.bn.files.1drv.com/y4mSiXJ1PI3vDv9KsUuRTsrhjPJv9gHELj4bYjfPC10_PwucGfN47b4a1sOYFkJJ1CS9hETeRoZgW9JOF1Mpio_2jbCwmHCg70J56p6HDuij_n7BxbrAdygClfZJG7tQp_dXx-yGQvfRXs55UKaFU311WHkbwBsk2K0nMh4ZqYtImkueE4os9MHdyjNGOFtM-R0pwCDWyS7tWe4CgVQ744aag/IMG_20200107_183335_9.jpg?psid=1\" width=\"280px\" height=\"90px\" />\n",
    "\n",
    "<span style='color:green'> Esteban Márquez Delgado </span>\n",
    "\n",
    "---\n",
    "¡Hola! \n",
    "\n",
    "Soy estudiante de **Ing. Financiera** en el **ITESO**. Me apasionan las finanzas y mi mayor aspiración es convertirme en *analista financiero*, por ello me estoy capacitando para certificarme como **Asesor en Estrategias de Inversión**, esto me permitirá adquirir experiencia profesional en instituciones financieras. ¡Una gran motivación!  \n",
    "\n",
    "Soy originario de Guadalajara y me gusta correr, la tecnología, y la naturaleza!\n",
    "\n",
    "**Expectativas del curso:**\n",
    "\n",
    "Mis expectativas son **aprender Python lo más posible** para poder conjuntar más mis ideas con elementos financieros. \n",
    "Esto me permitirá automatizar y **eficientar procesos financieros personales y profesionales**."
   ]
  },
  {
   "cell_type": "markdown",
   "metadata": {},
   "source": [
    "### Figura 1\n",
    "| i | *x*   | *f(x)*   |\n",
    "|---|-----|--------|\n",
    "|0  |-1   |  0.3678|\n",
    "| <span style=\"color:red\">1</span> |<span style=\"color:red\">-0.5</span> | <span style=\"color:red\">0.7788</span> |\n",
    "| <span style=\"color:blue\">2</span> |<span style=\"color:blue\">0</span>| <span style=\"color:blue\">1</span>|\n",
    "| <span style=\"color:red\">3</span> |<span style=\"color:red\">0.5</span> | <span style=\"color:red\">0.7788</span> ||\n",
    "| 4 | 1   | 0.3679 |\n",
    "\n",
    "Cuadro 1: Tabla de valores de *f(x)*\n",
    "\n",
    "$$ \\int_{x=-1}^{x=1} e^{-x^2} \\ dx\\approx \\frac{0,5}{3}[f(-1)+f(1)+4(f(-0,5) + f(0,5)) + 2f(0)]$$\n",
    "\n",
    "$$≈ \\frac{0,5}{3}[0,3678 +0,3678 +4(0,7788 + 0,7788) + 2\\cdot1]\\approx1,4943$$\n",
    "\n",
    "A modo de verificación, se calculará por software, el valor del área para n = 100, un valor mucho más elevado al que se utilizó anteriormente. Si lo calculado previamente es correcto, se esperaría que se proximo al valor presentado a continuación para ser una buena aproximación.\n",
    "\n",
    "$$\\int_{x=-1}^{x=1} e^{-x^2} \\ dx\\approx 1,4936$$"
   ]
  },
  {
   "cell_type": "markdown",
   "metadata": {},
   "source": [
    "### Figura 2"
   ]
  },
  {
   "cell_type": "markdown",
   "metadata": {},
   "source": [
    "\n",
    "| *i*   | *1*   | *2*   | *3*   | *4*   | *5*   | *6*   | *7*   | \n",
    "|--:\t|--:\t|--:\t|--:\t|--:\t|---:\t|---:\t|---:\t|\n",
    "|$$E_i(V)$$|  12   | 10    |   24  |   12  |   -   |  -    |  -    |\n",
    "|$$r_i(Ω)$$|  .1   | .5    |   .2  |   .5  |   -   |  -    |  -    |\n",
    "|$$R_i(Ω)$$|  25   | 40    |   16  |   20  |   9   |  4    |  20   |\t\n",
    "\n",
    "<span style=\"color:lightblue\" font=\"Times New Roman\" size=\"14\"> Kemna y Vorst (1990)  <span style=\"color:black\" font=\"Times New Roman\" size=\"14\"> muestran que las opciones asiáticas con media geométrica continua se pueden valuar con el mismo enfoque de las opciones *plain vanilla*; solo se deben cambiar los parámetros de volatilidad σ por $σ_a$, y el costo de acarreo por $b_A$.\n",
    "\n",
    "De acuerdo con Kemna y Vorst, las fórmulas para valuar una opción de compra y una opción de venta son:\n",
    "    \n",
    "$$c≈S_Ie^{(b_A -r)(T-t)}Φ(d_1)-Ke^{(-r)(T-t)}Φ(d_2),$$\n",
    "$$p≈K_e^{-r(T-t)}Φ(d_2)-S_Ie^{(b_A -r)(T-t)}Φ(-d_1).$$\n",
    "\n",
    "con *$d_1$* y *$d_2$* dados por:\n",
    "    \n",
    "$$d_1= \\frac{(ln[S_t]/K)+(b_A + 1/2\\sigma_a^2)(T-t)}{\\sigma\\sqrt{T-t}},$$\n",
    "    \n",
    "$$d_2= d_1-\\sigma_a\\sqrt{T-t}.$$\n",
    "\n",
    "La función Φ(d) es la función de distribución acumulada de E—N(0,1). La volatilidad ajustada es igual a:\n",
    "\n",
    "$$\\sigma_a= \\frac{\\sigma}{\\sqrt{3}},$$\n",
    "\n",
    "mientras el costo de acarreo ajustado es:\n",
    "$$b_A=\\frac{1}{2}(v-\\frac{\\sigma^2}{6}).$$"
   ]
  },
  {
   "cell_type": "markdown",
   "metadata": {},
   "source": [
    "### Números primos "
   ]
  },
  {
   "cell_type": "code",
   "execution_count": 17,
   "metadata": {},
   "outputs": [
    {
     "name": "stdout",
     "output_type": "stream",
     "text": [
      "Los números primos del 1 al 100 son:\n",
      "1 3 5 7 9 11 13 15 17 19 21 23 25 27 29 31 33 35 37 39 41 43 45 47 49 51 53 55 57 59 61 63 65 67 69 71 73 75 77 79 81 83 85 87 89 91 93 95 97 99 "
     ]
    }
   ],
   "source": [
    "inicio, fin = 0,100\n",
    "print(\"Los números primos del 1 al 100 son:\")\n",
    "for num in range(inicio, fin + 1): \n",
    "    if num % 2 != 0: \n",
    "        print(num, end = \" \") "
   ]
  },
  {
   "cell_type": "code",
   "execution_count": 18,
   "metadata": {},
   "outputs": [
    {
     "name": "stdout",
     "output_type": "stream",
     "text": [
      "100\n"
     ]
    },
    {
     "data": {
      "text/plain": [
       "array([0.00000000e+00, 1.00000000e+00, 1.00000000e+00, 2.00000000e+00,\n",
       "       3.00000000e+00, 5.00000000e+00, 8.00000000e+00, 1.30000000e+01,\n",
       "       2.10000000e+01, 3.40000000e+01, 5.50000000e+01, 8.90000000e+01,\n",
       "       1.44000000e+02, 2.33000000e+02, 3.77000000e+02, 6.10000000e+02,\n",
       "       9.87000000e+02, 1.59700000e+03, 2.58400000e+03, 4.18100000e+03,\n",
       "       6.76500000e+03, 1.09460000e+04, 1.77110000e+04, 2.86570000e+04,\n",
       "       4.63680000e+04, 7.50250000e+04, 1.21393000e+05, 1.96418000e+05,\n",
       "       3.17811000e+05, 5.14229000e+05, 8.32040000e+05, 1.34626900e+06,\n",
       "       2.17830900e+06, 3.52457800e+06, 5.70288700e+06, 9.22746500e+06,\n",
       "       1.49303520e+07, 2.41578170e+07, 3.90881690e+07, 6.32459860e+07,\n",
       "       1.02334155e+08, 1.65580141e+08, 2.67914296e+08, 4.33494437e+08,\n",
       "       7.01408733e+08, 1.13490317e+09, 1.83631190e+09, 2.97121507e+09,\n",
       "       4.80752698e+09, 7.77874205e+09, 1.25862690e+10, 2.03650111e+10,\n",
       "       3.29512801e+10, 5.33162912e+10, 8.62675713e+10, 1.39583862e+11,\n",
       "       2.25851434e+11, 3.65435296e+11, 5.91286730e+11, 9.56722026e+11,\n",
       "       1.54800876e+12, 2.50473078e+12, 4.05273954e+12, 6.55747032e+12,\n",
       "       1.06102099e+13, 1.71676802e+13, 2.77778900e+13, 4.49455702e+13,\n",
       "       7.27234602e+13, 1.17669030e+14, 1.90392491e+14, 3.08061521e+14,\n",
       "       4.98454012e+14, 8.06515533e+14, 1.30496954e+15, 2.11148508e+15,\n",
       "       3.41645462e+15, 5.52793970e+15, 8.94439432e+15, 1.44723340e+16,\n",
       "       2.34167283e+16, 3.78890624e+16, 6.13057907e+16, 9.91948531e+16,\n",
       "       1.60500644e+17, 2.59695497e+17, 4.20196141e+17, 6.79891638e+17,\n",
       "       1.10008778e+18, 1.77997942e+18, 2.88006719e+18, 4.66004661e+18,\n",
       "       7.54011380e+18, 1.22001604e+19, 1.97402742e+19, 3.19404346e+19,\n",
       "       5.16807089e+19, 8.36211435e+19, 1.35301852e+20, 2.18922996e+20])"
      ]
     },
     "execution_count": 18,
     "metadata": {},
     "output_type": "execute_result"
    }
   ],
   "source": [
    "## Fibonacci Eduardo Loza\n",
    "import numpy as np\n",
    "\n",
    "fib=np.zeros(100)\n",
    "fib[1]=1\n",
    "for i in range(98):\n",
    "    fib[i+2]= fib [i+1] + fib[i]\n",
    "print(len(fib))\n",
    "fib"
   ]
  }
 ],
 "metadata": {
  "kernelspec": {
   "display_name": "Python 3",
   "language": "python",
   "name": "python3"
  },
  "language_info": {
   "codemirror_mode": {
    "name": "ipython",
    "version": 3
   },
   "file_extension": ".py",
   "mimetype": "text/x-python",
   "name": "python",
   "nbconvert_exporter": "python",
   "pygments_lexer": "ipython3",
   "version": "3.7.6"
  }
 },
 "nbformat": 4,
 "nbformat_minor": 4
}
